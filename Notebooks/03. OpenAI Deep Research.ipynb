{
 "cells": [
  {
   "cell_type": "code",
   "id": "initial_id",
   "metadata": {
    "collapsed": true,
    "ExecuteTime": {
     "end_time": "2025-08-08T23:13:46.263079Z",
     "start_time": "2025-08-08T23:13:42.153346Z"
    }
   },
   "source": [
    "import os\n",
    "from agents import Runner, agent, trace, set_trace_processors\n",
    "from weave.integrations.openai_agents.openai_agents import WeaveTracingProcessor\n",
    "import asyncio\n",
    "import weave\n",
    "from dotenv import load_dotenv\n",
    "from IPython.display import display, Markdown, HTML, Image\n",
    "load_dotenv()\n",
    "weave.init(\"Operation Model\")\n",
    "set_trace_processors([WeaveTracingProcessor()])"
   ],
   "outputs": [
    {
     "name": "stderr",
     "output_type": "stream",
     "text": [
      "\u001B[36m\u001B[1mweave\u001B[0m: Logged in as Weights & Biases user: francisco-reveriano-1.\n",
      "\u001B[36m\u001B[1mweave\u001B[0m: View Weave data at https://wandb.ai/francisco-reveriano-1-mckinsey-company/operation-model/weave\n"
     ]
    }
   ],
   "execution_count": 1
  },
  {
   "metadata": {
    "ExecuteTime": {
     "end_time": "2025-08-08T23:21:30.378883Z",
     "start_time": "2025-08-08T23:13:46.338163Z"
    }
   },
   "cell_type": "code",
   "source": [
    "from src.Tools.OpenAIDeepResearch_Tool import OpenAIDeepResearch_Tool\n",
    "\n",
    "response = await Runner.run(OpenAIDeepResearch_Tool, \"How will Generative AI impact the following roles in 'Mortgage Services in Load Admin' for both offshore and onshore operations\")\n",
    "display(Markdown(response.final_output))"
   ],
   "id": "d9060bd6e61a872a",
   "outputs": [
    {
     "name": "stderr",
     "output_type": "stream",
     "text": [
      "\u001B[36m\u001B[1mweave\u001B[0m: 🍩 https://wandb.ai/francisco-reveriano-1-mckinsey-company/operation-model/r/call/01988bf6-396c-7e9e-8ef6-e21a0449e9bc\n"
     ]
    },
    {
     "data": {
      "text/plain": [
       "<IPython.core.display.Markdown object>"
      ],
      "text/markdown": "The impact of Generative AI on offshore and onshore operations in mortgage services—specifically loan administration—shows distinct trends:\n\n### Offshore Operations\n1. **Task Automation**: AI is automating labor-intensive tasks, reducing the need for large offshore teams. This includes document processing, data entry, and quality checks, potentially automating up to 80% of repetitive tasks.\n   \n2. **Efficiency Gains**: Offshore processing time and costs are reduced, with AI enabling operations to handle higher volumes without additional staff. This includes reducing paperwork, enhancing accuracy, and increasing speed in customer support.\n\n3. **Reduced Dependence on Labor**: AI can replace or augment offshore labor, necessitating retraining or upskilling of the workforce. This shift may lead to fewer offshore jobs but more specialized roles.\n\n4. **Regulatory Considerations**: Companies must ensure compliance with international data privacy laws, with AI aiding in maintaining secure and compliant operations.\n\n### Onshore Operations\n1. **Customer Service Transformation**: AI-powered chatbots handle significant portions of routine inquiries, reducing onshore customer support costs by 30-50%.\n\n2. **Operational Efficiency**: AI increases productivity by automating document management and compliance tasks. Firms experience a reduction in error rates and faster processing times.\n\n3. **Cost Reduction**: Onshore operations can see a 20-30% reduction in loan processing costs, improving profitability and allowing more competitive pricing.\n\n4. **Strategic Growth**: With AI, companies can scale without corresponding increases in staff, allowing for expanded services and improved customer relationships.\n\n### Strategic and Financial Implications\n- **Investment in AI**: Both offshore and onshore operations are investing in AI to reduce costs and improve efficiency, translating to better profit margins.\n- **Change Management**: Both regions must manage regulatory compliance and ensure smooth integration of AI technologies.\n- **Competitive Advantage**: Firms that effectively integrate AI can expect operational scalability and competitive pricing, positioning them as industry leaders.\n\nOverall, Generative AI is set to significantly transform both offshore and onshore mortgage loan administration, ushering in enhanced efficiency, reduced costs, and improved customer experiences."
     },
     "metadata": {},
     "output_type": "display_data"
    }
   ],
   "execution_count": 2
  },
  {
   "metadata": {
    "ExecuteTime": {
     "end_time": "2025-08-08T23:42:30.717836Z",
     "start_time": "2025-08-08T23:42:30.710975Z"
    }
   },
   "cell_type": "code",
   "source": "display(Markdown(response.final_output))",
   "id": "148e86ede462ecfe",
   "outputs": [
    {
     "data": {
      "text/plain": [
       "<IPython.core.display.Markdown object>"
      ],
      "text/markdown": "The impact of Generative AI on offshore and onshore operations in mortgage services—specifically loan administration—shows distinct trends:\n\n### Offshore Operations\n1. **Task Automation**: AI is automating labor-intensive tasks, reducing the need for large offshore teams. This includes document processing, data entry, and quality checks, potentially automating up to 80% of repetitive tasks.\n   \n2. **Efficiency Gains**: Offshore processing time and costs are reduced, with AI enabling operations to handle higher volumes without additional staff. This includes reducing paperwork, enhancing accuracy, and increasing speed in customer support.\n\n3. **Reduced Dependence on Labor**: AI can replace or augment offshore labor, necessitating retraining or upskilling of the workforce. This shift may lead to fewer offshore jobs but more specialized roles.\n\n4. **Regulatory Considerations**: Companies must ensure compliance with international data privacy laws, with AI aiding in maintaining secure and compliant operations.\n\n### Onshore Operations\n1. **Customer Service Transformation**: AI-powered chatbots handle significant portions of routine inquiries, reducing onshore customer support costs by 30-50%.\n\n2. **Operational Efficiency**: AI increases productivity by automating document management and compliance tasks. Firms experience a reduction in error rates and faster processing times.\n\n3. **Cost Reduction**: Onshore operations can see a 20-30% reduction in loan processing costs, improving profitability and allowing more competitive pricing.\n\n4. **Strategic Growth**: With AI, companies can scale without corresponding increases in staff, allowing for expanded services and improved customer relationships.\n\n### Strategic and Financial Implications\n- **Investment in AI**: Both offshore and onshore operations are investing in AI to reduce costs and improve efficiency, translating to better profit margins.\n- **Change Management**: Both regions must manage regulatory compliance and ensure smooth integration of AI technologies.\n- **Competitive Advantage**: Firms that effectively integrate AI can expect operational scalability and competitive pricing, positioning them as industry leaders.\n\nOverall, Generative AI is set to significantly transform both offshore and onshore mortgage loan administration, ushering in enhanced efficiency, reduced costs, and improved customer experiences."
     },
     "metadata": {},
     "output_type": "display_data"
    }
   ],
   "execution_count": 4
  }
 ],
 "metadata": {
  "kernelspec": {
   "display_name": "Python 3",
   "language": "python",
   "name": "python3"
  },
  "language_info": {
   "codemirror_mode": {
    "name": "ipython",
    "version": 2
   },
   "file_extension": ".py",
   "mimetype": "text/x-python",
   "name": "python",
   "nbconvert_exporter": "python",
   "pygments_lexer": "ipython2",
   "version": "2.7.6"
  }
 },
 "nbformat": 4,
 "nbformat_minor": 5
}
