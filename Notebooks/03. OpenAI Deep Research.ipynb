{
 "cells": [
  {
   "cell_type": "code",
   "id": "initial_id",
   "metadata": {
    "collapsed": true,
    "ExecuteTime": {
     "end_time": "2025-08-09T17:19:49.930811Z",
     "start_time": "2025-08-09T17:19:48.884860Z"
    }
   },
   "source": [
    "import os\n",
    "from agents import Runner, agent, trace, set_trace_processors, Agent, WebSearchTool\n",
    "from weave.integrations.openai_agents.openai_agents import WeaveTracingProcessor\n",
    "import asyncio\n",
    "import weave\n",
    "from dotenv import load_dotenv\n",
    "from IPython.display import display, Markdown, HTML, Image\n",
    "load_dotenv()\n",
    "weave.init(\"Operation Model\")\n",
    "set_trace_processors([WeaveTracingProcessor()])"
   ],
   "outputs": [
    {
     "data": {
      "text/plain": [
       "Output()"
      ],
      "application/vnd.jupyter.widget-view+json": {
       "version_major": 2,
       "version_minor": 0,
       "model_id": "f36de362ed8a4cd59d2fd564b637b11b"
      }
     },
     "metadata": {},
     "output_type": "display_data"
    },
    {
     "data": {
      "text/plain": [],
      "text/html": [
       "<pre style=\"white-space:pre;overflow-x:auto;line-height:normal;font-family:Menlo,'DejaVu Sans Mono',consolas,'Courier New',monospace\"></pre>\n"
      ]
     },
     "metadata": {},
     "output_type": "display_data"
    },
    {
     "name": "stderr",
     "output_type": "stream",
     "text": [
      "\u001B[36m\u001B[1mweave\u001B[0m: Logged in as Weights & Biases user: francisco-reveriano-1.\n",
      "\u001B[36m\u001B[1mweave\u001B[0m: View Weave data at https://wandb.ai/francisco-reveriano-1-mckinsey-company/operation-model/weave\n"
     ]
    }
   ],
   "execution_count": 4
  },
  {
   "metadata": {
    "ExecuteTime": {
     "end_time": "2025-08-08T23:21:30.378883Z",
     "start_time": "2025-08-08T23:13:46.338163Z"
    }
   },
   "cell_type": "code",
   "source": [
    "from src.Tools.OpenAIDeepResearch_Tool import OpenAIDeepResearch_Tool\n",
    "\n",
    "response = await Runner.run(OpenAIDeepResearch_Tool, \"How will Generative AI impact the following roles in 'Mortgage Services in Load Admin' for both offshore and onshore operations\")\n",
    "display(Markdown(response.final_output))"
   ],
   "id": "d9060bd6e61a872a",
   "outputs": [
    {
     "name": "stderr",
     "output_type": "stream",
     "text": [
      "\u001B[36m\u001B[1mweave\u001B[0m: 🍩 https://wandb.ai/francisco-reveriano-1-mckinsey-company/operation-model/r/call/01988bf6-396c-7e9e-8ef6-e21a0449e9bc\n"
     ]
    },
    {
     "data": {
      "text/plain": [
       "<IPython.core.display.Markdown object>"
      ],
      "text/markdown": "The impact of Generative AI on offshore and onshore operations in mortgage services—specifically loan administration—shows distinct trends:\n\n### Offshore Operations\n1. **Task Automation**: AI is automating labor-intensive tasks, reducing the need for large offshore teams. This includes document processing, data entry, and quality checks, potentially automating up to 80% of repetitive tasks.\n   \n2. **Efficiency Gains**: Offshore processing time and costs are reduced, with AI enabling operations to handle higher volumes without additional staff. This includes reducing paperwork, enhancing accuracy, and increasing speed in customer support.\n\n3. **Reduced Dependence on Labor**: AI can replace or augment offshore labor, necessitating retraining or upskilling of the workforce. This shift may lead to fewer offshore jobs but more specialized roles.\n\n4. **Regulatory Considerations**: Companies must ensure compliance with international data privacy laws, with AI aiding in maintaining secure and compliant operations.\n\n### Onshore Operations\n1. **Customer Service Transformation**: AI-powered chatbots handle significant portions of routine inquiries, reducing onshore customer support costs by 30-50%.\n\n2. **Operational Efficiency**: AI increases productivity by automating document management and compliance tasks. Firms experience a reduction in error rates and faster processing times.\n\n3. **Cost Reduction**: Onshore operations can see a 20-30% reduction in loan processing costs, improving profitability and allowing more competitive pricing.\n\n4. **Strategic Growth**: With AI, companies can scale without corresponding increases in staff, allowing for expanded services and improved customer relationships.\n\n### Strategic and Financial Implications\n- **Investment in AI**: Both offshore and onshore operations are investing in AI to reduce costs and improve efficiency, translating to better profit margins.\n- **Change Management**: Both regions must manage regulatory compliance and ensure smooth integration of AI technologies.\n- **Competitive Advantage**: Firms that effectively integrate AI can expect operational scalability and competitive pricing, positioning them as industry leaders.\n\nOverall, Generative AI is set to significantly transform both offshore and onshore mortgage loan administration, ushering in enhanced efficiency, reduced costs, and improved customer experiences."
     },
     "metadata": {},
     "output_type": "display_data"
    }
   ],
   "execution_count": 2
  },
  {
   "metadata": {
    "ExecuteTime": {
     "end_time": "2025-08-08T23:42:30.717836Z",
     "start_time": "2025-08-08T23:42:30.710975Z"
    }
   },
   "cell_type": "code",
   "source": "display(Markdown(response.final_output))",
   "id": "148e86ede462ecfe",
   "outputs": [
    {
     "data": {
      "text/plain": [
       "<IPython.core.display.Markdown object>"
      ],
      "text/markdown": "The impact of Generative AI on offshore and onshore operations in mortgage services—specifically loan administration—shows distinct trends:\n\n### Offshore Operations\n1. **Task Automation**: AI is automating labor-intensive tasks, reducing the need for large offshore teams. This includes document processing, data entry, and quality checks, potentially automating up to 80% of repetitive tasks.\n   \n2. **Efficiency Gains**: Offshore processing time and costs are reduced, with AI enabling operations to handle higher volumes without additional staff. This includes reducing paperwork, enhancing accuracy, and increasing speed in customer support.\n\n3. **Reduced Dependence on Labor**: AI can replace or augment offshore labor, necessitating retraining or upskilling of the workforce. This shift may lead to fewer offshore jobs but more specialized roles.\n\n4. **Regulatory Considerations**: Companies must ensure compliance with international data privacy laws, with AI aiding in maintaining secure and compliant operations.\n\n### Onshore Operations\n1. **Customer Service Transformation**: AI-powered chatbots handle significant portions of routine inquiries, reducing onshore customer support costs by 30-50%.\n\n2. **Operational Efficiency**: AI increases productivity by automating document management and compliance tasks. Firms experience a reduction in error rates and faster processing times.\n\n3. **Cost Reduction**: Onshore operations can see a 20-30% reduction in loan processing costs, improving profitability and allowing more competitive pricing.\n\n4. **Strategic Growth**: With AI, companies can scale without corresponding increases in staff, allowing for expanded services and improved customer relationships.\n\n### Strategic and Financial Implications\n- **Investment in AI**: Both offshore and onshore operations are investing in AI to reduce costs and improve efficiency, translating to better profit margins.\n- **Change Management**: Both regions must manage regulatory compliance and ensure smooth integration of AI technologies.\n- **Competitive Advantage**: Firms that effectively integrate AI can expect operational scalability and competitive pricing, positioning them as industry leaders.\n\nOverall, Generative AI is set to significantly transform both offshore and onshore mortgage loan administration, ushering in enhanced efficiency, reduced costs, and improved customer experiences."
     },
     "metadata": {},
     "output_type": "display_data"
    }
   ],
   "execution_count": 4
  },
  {
   "metadata": {},
   "cell_type": "markdown",
   "source": "## Agent",
   "id": "e5fb4e71a60b3eab"
  },
  {
   "metadata": {
    "ExecuteTime": {
     "end_time": "2025-08-09T17:20:15.494430Z",
     "start_time": "2025-08-09T17:20:15.491644Z"
    }
   },
   "cell_type": "code",
   "source": [
    "deep_research_agent = Agent(\n",
    "    name=\"deep_research_agent\",\n",
    "    instructions=\"\"\"You are an expert in deep research on the provided topic. Answer the user's question based on the provided research.\"\"\",\n",
    "    model=os.getenv(\"OPENAI_DEEP_RESEARCH_MODEL\"),\n",
    "    tools=[WebSearchTool()],\n",
    ")"
   ],
   "id": "204f2a7c588b8c8a",
   "outputs": [],
   "execution_count": 6
  },
  {
   "metadata": {
    "ExecuteTime": {
     "end_time": "2025-08-09T17:28:31.251127Z",
     "start_time": "2025-08-09T17:20:17.860210Z"
    }
   },
   "cell_type": "code",
   "source": [
    "message = \"Why is Warhammer 40k so popular?\"\n",
    "response = await Runner.run(deep_research_agent, message, max_turns=100)\n",
    "display(Markdown(response.final_output))"
   ],
   "id": "576c1619b36f41b9",
   "outputs": [
    {
     "name": "stderr",
     "output_type": "stream",
     "text": [
      "\u001B[36m\u001B[1mweave\u001B[0m: 🍩 https://wandb.ai/francisco-reveriano-1-mckinsey-company/operation-model/r/call/01988fd8-f7c7-77be-ac83-6f752aa79f62\n",
      "/Users/Francisco_Reveriano/Documents/Client_Engagements/Truist_Ops_Model/.venv/lib/python3.11/site-packages/pydantic/main.py:463: UserWarning: Pydantic serializer warnings:\n",
      "  PydanticSerializationUnexpectedValue(Expected `literal['search']` - serialized value may not be as expected [input_value='find_in_page', input_type=str])\n",
      "  PydanticSerializationUnexpectedValue(Expected `ActionOpenPage` - serialized value may not be as expected [input_value=ActionSearch(query=None, ...w-surge-in-popularity/'), input_type=ActionSearch])\n",
      "  PydanticSerializationUnexpectedValue(Expected `ActionFind` - serialized value may not be as expected [input_value=ActionSearch(query=None, ...w-surge-in-popularity/'), input_type=ActionSearch])\n",
      "  return self.__pydantic_serializer__.to_python(\n",
      "/Users/Francisco_Reveriano/Documents/Client_Engagements/Truist_Ops_Model/.venv/lib/python3.11/site-packages/pydantic/main.py:463: UserWarning: Pydantic serializer warnings:\n",
      "  PydanticSerializationUnexpectedValue(Expected `literal['search']` - serialized value may not be as expected [input_value='find_in_page', input_type=str])\n",
      "  PydanticSerializationUnexpectedValue(Expected `ActionOpenPage` - serialized value may not be as expected [input_value=ActionSearch(query=None, ...-the-world-right-now-2'), input_type=ActionSearch])\n",
      "  PydanticSerializationUnexpectedValue(Expected `ActionFind` - serialized value may not be as expected [input_value=ActionSearch(query=None, ...-the-world-right-now-2'), input_type=ActionSearch])\n",
      "  return self.__pydantic_serializer__.to_python(\n",
      "/Users/Francisco_Reveriano/Documents/Client_Engagements/Truist_Ops_Model/.venv/lib/python3.11/site-packages/pydantic/main.py:463: UserWarning: Pydantic serializer warnings:\n",
      "  PydanticSerializationUnexpectedValue(Expected `literal['search']` - serialized value may not be as expected [input_value='find_in_page', input_type=str])\n",
      "  PydanticSerializationUnexpectedValue(Expected `ActionOpenPage` - serialized value may not be as expected [input_value=ActionSearch(query=None, ...science-fiction-241040'), input_type=ActionSearch])\n",
      "  PydanticSerializationUnexpectedValue(Expected `ActionFind` - serialized value may not be as expected [input_value=ActionSearch(query=None, ...science-fiction-241040'), input_type=ActionSearch])\n",
      "  return self.__pydantic_serializer__.to_python(\n",
      "/Users/Francisco_Reveriano/Documents/Client_Engagements/Truist_Ops_Model/.venv/lib/python3.11/site-packages/pydantic/main.py:463: UserWarning: Pydantic serializer warnings:\n",
      "  PydanticSerializationUnexpectedValue(Expected `literal['search']` - serialized value may not be as expected [input_value='find_in_page', input_type=str])\n",
      "  PydanticSerializationUnexpectedValue(Expected `ActionOpenPage` - serialized value may not be as expected [input_value=ActionSearch(query=None, ...he-warhammer-40k-world'), input_type=ActionSearch])\n",
      "  PydanticSerializationUnexpectedValue(Expected `ActionFind` - serialized value may not be as expected [input_value=ActionSearch(query=None, ...he-warhammer-40k-world'), input_type=ActionSearch])\n",
      "  return self.__pydantic_serializer__.to_python(\n",
      "/Users/Francisco_Reveriano/Documents/Client_Engagements/Truist_Ops_Model/.venv/lib/python3.11/site-packages/pydantic/main.py:463: UserWarning: Pydantic serializer warnings:\n",
      "  PydanticSerializationUnexpectedValue(Expected `literal['search']` - serialized value may not be as expected [input_value='find_in_page', input_type=str])\n",
      "  PydanticSerializationUnexpectedValue(Expected `ActionOpenPage` - serialized value may not be as expected [input_value=ActionSearch(query=None, ...iki/Warhammer_40%2C000'), input_type=ActionSearch])\n",
      "  PydanticSerializationUnexpectedValue(Expected `ActionFind` - serialized value may not be as expected [input_value=ActionSearch(query=None, ...iki/Warhammer_40%2C000'), input_type=ActionSearch])\n",
      "  return self.__pydantic_serializer__.to_python(\n",
      "/Users/Francisco_Reveriano/Documents/Client_Engagements/Truist_Ops_Model/.venv/lib/python3.11/site-packages/pydantic/main.py:463: UserWarning: Pydantic serializer warnings:\n",
      "  PydanticSerializationUnexpectedValue(Expected `literal['search']` - serialized value may not be as expected [input_value='find_in_page', input_type=str])\n",
      "  PydanticSerializationUnexpectedValue(Expected `ActionOpenPage` - serialized value may not be as expected [input_value=ActionSearch(query=None, ...news/magazine-17274186'), input_type=ActionSearch])\n",
      "  PydanticSerializationUnexpectedValue(Expected `ActionFind` - serialized value may not be as expected [input_value=ActionSearch(query=None, ...news/magazine-17274186'), input_type=ActionSearch])\n",
      "  return self.__pydantic_serializer__.to_python(\n",
      "/Users/Francisco_Reveriano/Documents/Client_Engagements/Truist_Ops_Model/.venv/lib/python3.11/site-packages/pydantic/main.py:463: UserWarning: Pydantic serializer warnings:\n",
      "  PydanticSerializationUnexpectedValue(Expected `literal['search']` - serialized value may not be as expected [input_value='find_in_page', input_type=str])\n",
      "  PydanticSerializationUnexpectedValue(Expected `ActionOpenPage` - serialized value may not be as expected [input_value=ActionSearch(query=None, ...ghamshire_England.html'), input_type=ActionSearch])\n",
      "  PydanticSerializationUnexpectedValue(Expected `ActionFind` - serialized value may not be as expected [input_value=ActionSearch(query=None, ...ghamshire_England.html'), input_type=ActionSearch])\n",
      "  return self.__pydantic_serializer__.to_python(\n"
     ]
    },
    {
     "data": {
      "text/plain": [
       "<IPython.core.display.Markdown object>"
      ],
      "text/markdown": "# Why Warhammer 40K Is So Popular\n\nWarhammer 40,000 (40K) has grown from a niche tabletop wargame into a worldwide phenomenon. It’s **the most popular miniature wargame in the world** ([en.wikipedia.org](https://en.wikipedia.org/wiki/Warhammer_40%2C000#:~:text=Warhammer%2040%2C000%20is%20a%20British,was%20released%20in%20June%202023)), captivating millions of fans. Several key factors explain why Warhammer 40K enjoys such enduring and expanding popularity:\n\n## A Vast, “Grimdark” Universe and Lore  \nOne major draw is Warhammer 40K’s rich and immersive science-fantasy setting. The game is set in a **dystopian far future** teeming with warring gods, aliens, demons, and superhuman warriors, portrayed in an **epic and relentlessly dark** tone ([surftidesplaza.org](https://surftidesplaza.org/why-warhammer-40k-is-experiencing-a-new-surge-in-popularity/#:~:text=A%20major%20reason%20Warhammer%2040K,grim%2C%20epic%2C%20and%20endlessly%20fascinating)). This **“grimdark”** atmosphere – so influential that the term comes from Warhammer’s tagline “In the grim darkness of the far future, there is only war” – gives the franchise a unique identity and depth ([en.wikipedia.org](https://en.wikipedia.org/wiki/Warhammer_40%2C000#:~:text=independent%20of%20each%20other,future%2C%20there%20is%20only%20war)). Decades of storytelling through rulebooks and an ever-expanding library of novels (by Games Workshop’s Black Library publishing arm) have built a massive fictional universe. Fans are drawn into this elaborate lore, which is **far grander in scope than almost any other sci-fi universe**, spanning **dozens of novels, comics, and games** ([theconversation.com](https://theconversation.com/five-reasons-warhammer-40-000-should-be-considered-a-great-work-of-science-fiction-241040#:~:text=Warhammer%2040k%20is%20no%20longer,fiction%20universe%20that%20exists%20today)). The complexity and moral ambiguity of the storyline (more than just a simple good-vs-evil tale) provide endless material to explore ([theconversation.com](https://theconversation.com/five-reasons-warhammer-40-000-should-be-considered-a-great-work-of-science-fiction-241040#:~:text=3)). In short, Warhammer’s **“grimdark” lore and world-building** offer a depth that keeps enthusiasts engaged and continually discovering new threads in the narrative.\n\n## Creative Hobby Crafting and Collecting  \nWarhammer 40K isn’t just a game – it’s a **hands-on hobby** that involves collecting, assembling, and painting detailed miniatures. For many players, **the appeal lies in the creative process** of building armies and bringing them to life with paint ([www.bbc.com](https://www.bbc.com/news/magazine-17274186#:~:text=The%20appeal%20is%20in%20collecting%2C,prominently%20in%20the%20detailed%20artwork)). Each miniature figure must be hand-assembled and painted, giving hobbyists a chance to express themselves artistically. This combination of model craftsmanship with gaming is highly rewarding – players often spend weeks crafting a unique army, and many enjoy painting for its own sake as a **relaxing, artistic pastime** ([surftidesplaza.org](https://surftidesplaza.org/why-warhammer-40k-is-experiencing-a-new-surge-in-popularity/#:~:text=Beyond%20gaming%2C%20Warhammer%2040K%20thrives,painting%20videos%2C%20fueling%20further%20interest)). During the COVID-19 pandemic, for example, *miniature painting surged in popularity* as a therapeutic, at-home activity ([surftidesplaza.org](https://surftidesplaza.org/why-warhammer-40k-is-experiencing-a-new-surge-in-popularity/#:~:text=Beyond%20gaming%2C%20Warhammer%2040K%20thrives,painting%20videos%2C%20fueling%20further%20interest)). Warhammer’s huge variety of factions and units also fuels the creative appeal. There are dozens of distinct armies (Space Marines, Orks, Eldar, etc.), each with its own aesthetic and lore, so **players can choose a faction that resonates with their personality and imagination**. The **range of factions and models allows fans to “stamp their own personalities” on their armies** before they even pick up a brush ([whatculture.com](https://whatculture.com/gaming/10-reasons-warhammer-40k-is-the-greatest-hobby-in-the-world-right-now-2#:~:text=The%20combination%20of%20creativity%2C%20strategy,even%20pick%20up%20a%20brush)). In essence, Warhammer 40K’s hobby aspect offers a unique blend of **art, customization, and collection**, making it much more than just playing a game.\n\n## Deep Strategic Gameplay and Variety  \nBeyond the lore and modeling, Warhammer 40K is loved for its **engaging and strategic gameplay**. Battles are not luck-driven but hinge on tactical decisions – army composition, positioning, and strategy on the tabletop. The game rewards **strategic thinking and inventive tactics**, which challenges players’ minds ([www.gamersdecide.com](https://www.gamersdecide.com/pc-game-news/games-workshop-10-reasons-why-they-are-loved-millions-fans-worldwide#:~:text=Over%20the%20past%2040%20years%2C,PC%20gamers%20love%20Games%20Workshop)). With complex rules and countless unit abilities, there’s a depth that strategy gamers relish. Each match is essentially a strategic puzzle played out with miniatures, satisfying those who enjoy competition and tactical play. Furthermore, the game’s design offers huge variety in play style. Every faction in Warhammer 40K has different strengths, weaknesses, and thematic flavor, from psychic alien hordes to elite super-soldiers. This means **there’s a playstyle for everyone**, and the constant addition of new units and rules keeps the game evolving. Warhammer’s blend of **creativity, strategy, and its horrific futuristic vision** has drawn in enthusiasts by the droves ([whatculture.com](https://whatculture.com/gaming/10-reasons-warhammer-40k-is-the-greatest-hobby-in-the-world-right-now-2#:~:text=The%20combination%20of%20creativity%2C%20strategy,even%20pick%20up%20a%20brush)). In short, it’s **fun, challenging, and never the same game twice**, which keeps players coming back for more.\n\n## Supportive Community and Online Influence  \nWarhammer 40K has fostered a passionate, **tight-knit community** that greatly contributes to its popularity. Longtime fans often welcome newcomers, sharing tips on army-building, painting, and tactics. In local hobby shops and tournaments, veteran players readily **offer advice and encouragement** to beginners. This positive culture extends online as well. **Social media, forums, and video platforms have “democratized” access** to Warhammer, making it far easier to learn and get involved ([surftidesplaza.org](https://surftidesplaza.org/why-warhammer-40k-is-experiencing-a-new-surge-in-popularity/#:~:text=Social%20media%20platforms%2C%20YouTube%20channels%2C,educational%20and%20entertaining%20content%20online)). There are countless YouTube channels, podcasts, and Twitch streams dedicated to 40K – from painting tutorials to battle report videos – which not only entertain but also educate and inspire new players. For example, popular channels like Tabletop Tactics or Midwinter Minis showcase gameplay and hobby tips, helping demystify the complex rules ([surftidesplaza.org](https://surftidesplaza.org/why-warhammer-40k-is-experiencing-a-new-surge-in-popularity/#:~:text=Popular%20Warhammer%20creators%20such%20as,for%20advice%2C%20and%20build%20connections)). On Reddit (e.g. r/Warhammer40k) and other forums, fans share their painted models, army lists, and answer questions daily. A **quick look at YouTube** reveals countless **helpful guides** on everything from painting techniques and building terrain to choosing a first army or mastering advanced strategies ([whatculture.com](https://whatculture.com/gaming/10-reasons-warhammer-40k-is-the-greatest-hobby-in-the-world-right-now-2#:~:text=number%20of%20helpful%20guides%20offering,to%20new%20players%20and%20enthusiasts)). This reflects a community that is **overwhelmingly eager to help, support, and welcome new players** ([whatculture.com](https://whatculture.com/gaming/10-reasons-warhammer-40k-is-the-greatest-hobby-in-the-world-right-now-2#:~:text=number%20of%20helpful%20guides%20offering,to%20new%20players%20and%20enthusiasts)). In addition, Games Workshop itself has put more effort into community engagement in recent years (regular official blog posts, previews, and events), further nurturing the fan base ([surftidesplaza.org](https://surftidesplaza.org/why-warhammer-40k-is-experiencing-a-new-surge-in-popularity/#:~:text=Games%20Workshop%2C%20the%20company%20behind,toward%20community%20engagement%20and%20accessibility)) ([surftidesplaza.org](https://surftidesplaza.org/why-warhammer-40k-is-experiencing-a-new-surge-in-popularity/#:~:text=it%20easier%20for%20new%20players,without%20committing%20to%20massive%20armies)). The result is that getting into Warhammer is easier and more inviting than ever – new fans can find a wealth of community-created content and a friendly network of fellow hobbyists to guide them. This strong community spirit not only retains players, it actively **attracts new people into the hobby** by making it less intimidating to start.\n\n## Cross-Media Expansion and Mainstream Appeal  \nAnother reason Warhammer 40K has exploded in popularity is its successful expansion beyond the tabletop. **Warhammer is no longer “just” a miniatures game – it’s a multi-platform franchise** ([theconversation.com](https://theconversation.com/five-reasons-warhammer-40-000-should-be-considered-a-great-work-of-science-fiction-241040#:~:text=Warhammer%2040k%20is%20no%20longer,fiction%20universe%20that%20exists%20today)). Fans can dive into the universe through many avenues: **video games, novels, comics, animations**, and more. Dozens of **PC and console games** set in the 40K universe (from the *Dawn of War* strategy series to the recent shooter *Darktide* or the upcoming *Space Marine 2*) have exposed millions of gamers to Warhammer’s lore and action ([surftidesplaza.org](https://surftidesplaza.org/why-warhammer-40k-is-experiencing-a-new-surge-in-popularity/#:~:text=Warhammer%2040K%E2%80%99s%20growing%20presence%20in,Titles%20like)). Many of these titles have earned critical acclaim and, importantly, **brought new fans into the fold** who might never have started with a tabletop wargame ([surftidesplaza.org](https://surftidesplaza.org/why-warhammer-40k-is-experiencing-a-new-surge-in-popularity/#:~:text=Warhammer%2040K%E2%80%99s%20growing%20presence%20in,Titles%20like)). Similarly, an extensive catalogue of **novels and audiobooks** – such as the bestselling *Horus Heresy* series – allow sci-fi readers to enjoy the rich storylines without ever rolling a die. This cross-media presence greatly broadens Warhammer’s appeal. Someone might first encounter Warhammer 40K through a novel, a mobile game, or a YouTube short, and then get intrigued enough to explore the core miniatures hobby. In essence, Games Workshop has wisely **allowed the Warhammer universe to permeate pop culture** in various forms ([www.adeptusars.com](https://www.adeptusars.com/features/from-miniatures-to-masses-the-allure-of-the-warhammer-40k-world#:~:text=The%20grimdark%20future%20of%20Warhammer,beloved%20universe%20in%20myriad%20ways)). \n\nAt the same time, **geek culture’s rise to mainstream prominence** has given Warhammer a bigger stage. What was once a hobby stereotyped as niche or “nerdy” has become cool and widely accepted ([surftidesplaza.org](https://surftidesplaza.org/why-warhammer-40k-is-experiencing-a-new-surge-in-popularity/#:~:text=One%20of%20the%20most%20influential,and%20%E2%80%9Cnerd%E2%80%9D%20has%20virtually%20disappeared)). The massive success of other fantasy/sci-fi franchises (like Marvel movies, Star Wars, or *Dungeons & Dragons*) has blurred the line between “mainstream” and “nerd” entertainment ([surftidesplaza.org](https://surftidesplaza.org/why-warhammer-40k-is-experiencing-a-new-surge-in-popularity/#:~:text=One%20of%20the%20most%20influential,and%20%E2%80%9Cnerd%E2%80%9D%20has%20virtually%20disappeared)). Warhammer 40K has ridden this wave of mainstream acceptance ([surftidesplaza.org](https://surftidesplaza.org/why-warhammer-40k-is-experiencing-a-new-surge-in-popularity/#:~:text=As%20tabletop%20role,it%E2%80%99s%20a%20badge%20of%20honor)). It’s not uncommon now to see Warhammer lore references in internet memes or hear about it in unrelated forums – awareness is simply higher. Even celebrities have openly professed their Warhammer fandom. For example, actor **Henry Cavill** (of Superman and *The Witcher* fame) is a well-known 40K enthusiast, as are musicians and other public figures ([theconversation.com](https://theconversation.com/five-reasons-warhammer-40-000-should-be-considered-a-great-work-of-science-fiction-241040#:~:text=Games%20Workshop%2C%20the%20British%20company,and%20the%20late%20Robin%20Williams)). This kind of celebrity endorsement has introduced the hobby to new audiences and lent it further legitimacy as a mainstream interest. In fact, Amazon Studios is developing a live-action Warhammer 40K series with Cavill, a project that made headlines and excited long-time fans ([www.adeptusars.com](https://www.adeptusars.com/features/from-miniatures-to-masses-the-allure-of-the-warhammer-40k-world#:~:text=Recent%20collaborations%20have%20further%20boosted,to%20the%20game%E2%80%99s%20global%20appeal)). The very prospect of a big-budget TV series signals how far Warhammer’s popularity has come – it’s now *valuable IP* for global entertainment companies. All these factors – popular video games, accessible fiction, and recognition in mainstream media – have **turned Warhammer 40K into a cultural phenomenon beyond the game itself**, drawing in people who might love the lore or aesthetics first and then become full hobby participants.\n\n## Longevity, Nostalgia, and a Growing Fanbase  \nFinally, Warhammer 40K’s popularity has benefited from its **longevity and generational appeal**. The game has been around since 1987, meaning it has decades of history and a generation of players who grew up with it. Many fans who got into Warhammer as kids or teens in the past are now adults coming back to the hobby. These **“lapsed” fans return due to nostalgia** and often with more disposable income and time to invest than they had in their youth ([surftidesplaza.org](https://surftidesplaza.org/why-warhammer-40k-is-experiencing-a-new-surge-in-popularity/#:~:text=Many%20fans%20who%20engaged%20with,part%20of%20the%20current%20boom)). Some are introducing Warhammer to their own children, effectively passing the torch and expanding the fanbase across age groups ([surftidesplaza.org](https://surftidesplaza.org/why-warhammer-40k-is-experiencing-a-new-surge-in-popularity/#:~:text=Warhammer%E2%80%99s%20evolving%20product%20line%20and,millennials%20and%20Gen%20Xers%20alike)). Warhammer’s sustained success has also seen it expand globally. What started as a UK-based phenomenon is now truly international – **over 70% of Games Workshop’s sales come from outside the UK** ([www.bbc.com](https://www.bbc.com/news/magazine-17274186#:~:text=Launched%2025%20years%20ago%2C%2040K,of%20sales%20are%20abroad)), and regions like North America, Europe, and Asia all have thriving Warhammer communities. This worldwide reach means the player base keeps growing and diversifying. Each new edition of the game (the 10th edition launched in 2023) and each new product release tends to bring a fresh surge of interest, pulling in newcomers while re-energizing veterans. Games Workshop has also made the game more accessible over time – recent editions have **streamlined the rules** and more affordable starter sets make it easier for beginners to jump in ([surftidesplaza.org](https://surftidesplaza.org/why-warhammer-40k-is-experiencing-a-new-surge-in-popularity/#:~:text=,Kill%20Team%20and%20Combat%20Patrol)). Long-time fans appreciate that the game continues to evolve and improve, while new players find it less daunting to start. In short, Warhammer 40K has managed to **retain its old fans and continuously attract new ones**, creating a virtuous cycle of popularity that few hobbies can match.\n\n## **Conclusion:** The Perfect Storm of Factors  \nWarhammer 40K’s popularity can’t be attributed to any single thing – it’s the result of **many factors converging** to create the ideal environment for a thriving fandom. As one analysis noted, the modern surge in Warhammer’s popularity is driven by a *“convergence of cultural shifts, digital evolution, corporate strategy, and community passion.”* ([surftidesplaza.org](https://surftidesplaza.org/why-warhammer-40k-is-experiencing-a-new-surge-in-popularity/#:~:text=The%20surge%20in%20Warhammer%2040K%E2%80%99s,platform%20universe%20with%20mainstream%20appeal)) What began as a complex niche wargame is now a **multi-platform universe with broad mainstream appeal** ([surftidesplaza.org](https://surftidesplaza.org/why-warhammer-40k-is-experiencing-a-new-surge-in-popularity/#:~:text=The%20surge%20in%20Warhammer%2040K%E2%80%99s,platform%20universe%20with%20mainstream%20appeal)). Warhammer offers something for everyone: a gripping narrative universe, a creative hobby outlet, a competitive strategy game, and a welcoming community to share it with. Its expansion into other media and the normalization of geek hobbies have further propelled it into the spotlight. The result is that Warhammer 40K today isn’t just a game you play in the basement – it’s a **global entertainment phenomenon** and a vibrant social hobby. Whether you come for the lore, the modeling, the gameplay, or all of the above, Warhammer 40K provides a uniquely immersive and rewarding experience. This compelling mix of **story, creativity, strategy, and community** is exactly why Warhammer 40K continues to grow in popularity year after year, forging a legacy that looks destined to endure well into the future. \n\n"
     },
     "metadata": {},
     "output_type": "display_data"
    }
   ],
   "execution_count": 7
  }
 ],
 "metadata": {
  "kernelspec": {
   "display_name": "Python 3",
   "language": "python",
   "name": "python3"
  },
  "language_info": {
   "codemirror_mode": {
    "name": "ipython",
    "version": 2
   },
   "file_extension": ".py",
   "mimetype": "text/x-python",
   "name": "python",
   "nbconvert_exporter": "python",
   "pygments_lexer": "ipython2",
   "version": "2.7.6"
  }
 },
 "nbformat": 4,
 "nbformat_minor": 5
}
