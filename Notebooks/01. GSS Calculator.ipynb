{
 "cells": [
  {
   "cell_type": "code",
   "id": "initial_id",
   "metadata": {
    "collapsed": true,
    "ExecuteTime": {
     "end_time": "2025-08-08T23:11:23.686972Z",
     "start_time": "2025-08-08T23:11:19.658095Z"
    }
   },
   "source": [
    "import os\n",
    "from agents import Runner, agent, trace, set_trace_processors\n",
    "from weave.integrations.openai_agents.openai_agents import WeaveTracingProcessor\n",
    "import asyncio\n",
    "import weave\n",
    "from dotenv import load_dotenv\n",
    "from IPython.display import display, Markdown, HTML, Image\n",
    "load_dotenv()\n",
    "weave.init(\"Operation Model\")\n",
    "set_trace_processors([WeaveTracingProcessor()])"
   ],
   "outputs": [
    {
     "name": "stderr",
     "output_type": "stream",
     "text": [
      "\u001B[36m\u001B[1mweave\u001B[0m: Logged in as Weights & Biases user: francisco-reveriano-1.\n",
      "\u001B[36m\u001B[1mweave\u001B[0m: View Weave data at https://wandb.ai/francisco-reveriano-1-mckinsey-company/operation-model/weave\n"
     ]
    }
   ],
   "execution_count": 1
  },
  {
   "metadata": {
    "ExecuteTime": {
     "end_time": "2025-08-08T23:12:25.973176Z",
     "start_time": "2025-08-08T23:11:23.898331Z"
    }
   },
   "cell_type": "code",
   "source": [
    "from src.Tools.Agentic_Calculator_Tool import Agentic_Calculator_Tool\n",
    "\n",
    "response = await Runner.run(Agentic_Calculator_Tool, \"Mortgage Services in Load Admin\")\n",
    "print(response.final_output.score, response.final_output.hallucination_score)\n",
    "display(Markdown(response.final_output.reasoning))"
   ],
   "id": "92644195d65dd35b",
   "outputs": [
    {
     "name": "stderr",
     "output_type": "stream",
     "text": [
      "\u001B[36m\u001B[1mweave\u001B[0m: 🍩 https://wandb.ai/francisco-reveriano-1-mckinsey-company/operation-model/r/call/01988bf4-0d06-73e8-bd96-25a281779b4a\n"
     ]
    },
    {
     "name": "stdout",
     "output_type": "stream",
     "text": [
      "3.2 Medium\n"
     ]
    },
    {
     "data": {
      "text/plain": [
       "<IPython.core.display.Markdown object>"
      ],
      "text/markdown": "Understanding: Interpreting “Mortgage Services in Load Admin” as mortgage loan administration/servicing operations (e.g., payment posting, escrow management, payoff processing, customer communications, investor reporting). If you meant a different scope or a specific platform/module called “Load Admin,” please clarify to refine the assessment.\n\nDimension scores and justifications:\n1) Data Input Nature – Score: 4. Mortgage servicing blends structured system data (loan records, payment ledgers) with unstructured inputs (borrower emails, call transcripts, tax bills, insurance documents). This mixed input profile aligns well with Gen-AI’s strengths in handling and extracting value from unstructured text alongside structured fields.\n\n2) Process Logic & Repetitiveness – Score: 4. Many servicing tasks are high-volume and SOP-driven (payment posting, escrow analyses, notices, payoff letters), punctuated by exception handling. This favors Gen-AI for drafting, classification, triage, and data extraction in repetitive flows, while routing edge cases to humans.\n\n3) Decision Complexity & Human Judgement – Score: 3. A substantial portion involves interpreting policies within guidelines (e.g., escrow changes, payoff validations), with some activities requiring nuanced judgment (loss mitigation/hardship assistance). Gen-AI is suitable as an assistive tool for recommendations and summarization, with humans making final decisions where judgment is material.\n\n4) Regulatory & Compliance Scrutiny – Score: 2. Mortgage servicing is highly regulated (e.g., CFPB/RESPA, state rules, investor servicing guides), demanding auditability, consistent disclosures, and consumer fairness controls. This level of scrutiny constrains fully autonomous Gen-AI use and necessitates explainability, approvals, and human-in-the-loop safeguards.\n\n5) Impact of Error & Risk Severity – Score: 3. Errors such as misapplied payments, incorrect payoff quotes, or escrow miscalculations can create customer harm and operational/legal costs, though many can be corrected with adjustments, refunds, or re-notices. Risk varies by sub-process, so Gen-AI should focus first on low-risk draft/assist functions before touching high-stakes actions.\n\nOverall Appropriateness Score: 3.2 (Moderately suitable – pilot recommended with guardrails). Gen-AI is well-suited for unstructured-document processing, communications drafting, knowledge search, and call/email summarization; use tight controls and human review for regulated or high-impact steps.\n\nChain of thought (key inference steps):\n- Interpreted the scope as mortgage loan administration/servicing based on the user’s phrase.\n- Mapped typical inputs (structured ledgers + unstructured borrower/agency documents and communications).\n- Assessed process cadence and SOP-dependency to gauge repetition and suitability for LLM-driven drafting/extraction.\n- Distinguished routine policy interpretation from higher-judgment areas like loss mitigation.\n- Considered regulatory constraints (CFPB/RESPA, investor guides) and the need for auditability/explainability.\n- Weighed the consequence profile across sub-processes to prioritize assistive vs. autonomous use.\n\nIf you can specify the exact sub-processes (e.g., escrow analysis, payoff, lien release, boarding, investor reporting, collections/loss mitigation, borrower communications) and target KPIs, I can refine scores and point to the highest-ROI Gen-AI pilots with appropriate guardrails."
     },
     "metadata": {},
     "output_type": "display_data"
    }
   ],
   "execution_count": 2
  }
 ],
 "metadata": {
  "kernelspec": {
   "display_name": "Python 3",
   "language": "python",
   "name": "python3"
  },
  "language_info": {
   "codemirror_mode": {
    "name": "ipython",
    "version": 2
   },
   "file_extension": ".py",
   "mimetype": "text/x-python",
   "name": "python",
   "nbconvert_exporter": "python",
   "pygments_lexer": "ipython2",
   "version": "2.7.6"
  }
 },
 "nbformat": 4,
 "nbformat_minor": 5
}
