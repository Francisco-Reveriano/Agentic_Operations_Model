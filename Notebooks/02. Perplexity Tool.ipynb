{
 "cells": [
  {
   "cell_type": "code",
   "id": "initial_id",
   "metadata": {
    "collapsed": true,
    "ExecuteTime": {
     "end_time": "2025-08-08T22:43:29.167586Z",
     "start_time": "2025-08-08T22:43:25.215046Z"
    }
   },
   "source": [
    "import os\n",
    "from agents import Runner, agent, trace, set_trace_processors\n",
    "from weave.integrations.openai_agents.openai_agents import WeaveTracingProcessor\n",
    "import asyncio\n",
    "import weave\n",
    "from dotenv import load_dotenv\n",
    "from IPython.display import display, Markdown, HTML, Image\n",
    "load_dotenv()\n",
    "weave.init(\"Operation Model\")\n",
    "set_trace_processors([WeaveTracingProcessor()])"
   ],
   "outputs": [
    {
     "name": "stderr",
     "output_type": "stream",
     "text": [
      "\u001B[36m\u001B[1mweave\u001B[0m: Logged in as Weights & Biases user: francisco-reveriano-1.\n",
      "\u001B[36m\u001B[1mweave\u001B[0m: View Weave data at https://wandb.ai/francisco-reveriano-1-mckinsey-company/operation-model/weave\n"
     ]
    }
   ],
   "execution_count": 1
  },
  {
   "metadata": {
    "ExecuteTime": {
     "end_time": "2025-08-08T22:44:50.837844Z",
     "start_time": "2025-08-08T22:44:26.673991Z"
    }
   },
   "cell_type": "code",
   "source": [
    "from src.Tools.PerplexitySECSonarPro_Tool import PerplexitySECSonarPro_Tool\n",
    "\n",
    "response = await Runner.run(PerplexitySECSonarPro_Tool, \"Thoroughly describe what activities fall within 'Mortgage Services in Load Admin' according to the latest bank statements?\")\n",
    "display(Markdown(response.final_output))"
   ],
   "id": "6b992c44ba45ff2d",
   "outputs": [
    {
     "name": "stderr",
     "output_type": "stream",
     "text": [
      "\u001B[36m\u001B[1mweave\u001B[0m: 🍩 https://wandb.ai/francisco-reveriano-1-mckinsey-company/operation-model/r/call/01988bdb-5fc1-7406-b06e-95a78eb11350\n"
     ]
    },
    {
     "data": {
      "text/plain": [
       "<IPython.core.display.Markdown object>"
      ],
      "text/markdown": "**Mortgage services in loan administration** encompass the ongoing management and servicing of a mortgage loan after it has closed. This includes all administrative, financial, and borrower-facing tasks needed to ensure the loan is paid according to its terms.\n\n### Key Activities in Mortgage Servicing\n\n- **Processing Payments:** Monthly mortgage payments from borrowers are collected and applied to principal, interest, taxes, and insurance.\n  \n- **Managing Escrows:** Handling escrow accounts for property taxes and homeowner’s insurance, ensuring timely disbursements.\n\n- **Communications:** Sending out mortgage statements and annual tax forms to borrowers.\n\n- **Customer Service:** Responding to borrower inquiries and managing customer service issues related to the loan.\n\n- **Loss Mitigation:** Offering solutions (e.g., forbearance, loan modification) for borrowers struggling with payments, and initiating foreclosure if necessary.\n\n- **Regulatory Compliance:** Ensuring compliance with contractual and regulatory requirements, which may include regular reporting to investors and regulators.\n\n### Providers of These Services\n\n- A **mortgage servicer** may be the original lender, but often, servicing rights are transferred to specialized third-party companies after the loan closes.\n\n### Additional Loan Administration Functions\n\n- **Database Maintenance:** Keeping an accurate, up-to-date loan database.\n  \n- **Financial Management:** Reconciling cash, tracking payments, and calculating principal and interest owed.\n\n- **Information Distribution:** Consolidating and distributing information to investors or fund administrators.\n  \n- **Coordination Activities:** Handling collections, trustee payments, and waterfall distributions, particularly in syndicated or securitized loans.\n\n### Differentiation from Lenders\n\n- The **lender** underwrites and funds the loan, while the **servicer** handles ongoing administrative and borrower interactions during the loan's life.\n\n### Regulation and Service Transfer\n\n- Subject to federal and state regulations, mortgage servicing ensures borrower protections and proper handling of payments and escrow.\n\n- Servicing rights can be transferred to another company, with borrowers notified in advance, though the loan terms remain unchanged.\n\nIn summary, **mortgage services in loan administration** involve managing, collecting, and applying payments on a mortgage loan, ensuring compliance, and serving as the main contact for borrowers from closing to payoff."
     },
     "metadata": {},
     "output_type": "display_data"
    }
   ],
   "execution_count": 2
  },
  {
   "metadata": {
    "ExecuteTime": {
     "end_time": "2025-08-08T22:46:03.323762Z",
     "start_time": "2025-08-08T22:45:52.684266Z"
    }
   },
   "cell_type": "code",
   "source": [
    "response = await Runner.run(PerplexitySECSonarPro_Tool, \"How will Generative AI impact the following activities: {}?\".format(response.final_output))\n",
    "display(Markdown(response.final_output))"
   ],
   "id": "a4857a5b40ae6bd3",
   "outputs": [
    {
     "data": {
      "text/plain": [
       "<IPython.core.display.Markdown object>"
      ],
      "text/markdown": "Generative AI can significantly impact mortgage services in loan administration by enhancing efficiency, reducing errors, and improving customer experience across various activities:\n\n### Key Impacts\n\n1. **Processing Payments:**\n   - **Automation and Accuracy:** AI can automate payment processing, ensuring timely application to principal, interest, taxes, and insurance. This reduces human error and improves efficiency.\n\n2. **Managing Escrows:**\n   - **Predictive Analytics:** AI can predict escrow needs and optimize disbursement schedules for taxes and insurance, ensuring timely payments.\n\n3. **Communications:**\n   - **Personalization:** AI can generate personalized mortgage statements and tax forms, catering to the unique needs and preferences of borrowers.\n   - **Automation:** Routine communications can be automated, freeing up human resources for more complex interactions.\n\n4. **Customer Service:**\n   - **AI Chatbots:** Implementing AI-driven chatbots can address borrower inquiries 24/7, providing instant support and resolving simple issues without human intervention.\n   - **Sentiment Analysis:** By analyzing communication, AI can identify dissatisfied customers and escalate issues to human representatives when necessary.\n\n5. **Loss Mitigation:**\n   - **Risk Assessment:** AI can analyze borrower data to determine the risk of default and suggest proactive loss mitigation strategies such as forbearance or loan modifications.\n   - **Decision Support:** AI can assist in decision-making processes for foreclosure or alternative solutions, improving outcomes for both servicers and borrowers.\n\n6. **Regulatory Compliance:**\n   - **Automated Reporting:** AI can automate the generation and submission of compliance reports, ensuring adherence to regulatory requirements and minimizing manual oversight.\n   - **Real-Time Monitoring:** AI can continuously monitor transactions for compliance breaches, alerting administrators to potential issues.\n\n### Additional Loan Administration Functions\n\n1. **Database Maintenance:**\n   - **Data Integrity:** AI can help maintain accuracy and up-to-date loan databases through automated validation and error-checking processes.\n\n2. **Financial Management:**\n   - **Analytics and Forecasting:** AI can track payments, reconciling cash flows and forecasting financial trends, aiding in effective financial management.\n\n3. **Information Distribution:**\n   - **Data Aggregation:** AI can consolidate and distribute relevant information to investors efficiently, tailoring reports based on specific stakeholder needs.\n\n4. **Coordination Activities:**\n   - **Workflow Automation:** AI can streamline coordination activities like collections and trustee payments, ensuring efficient waterfall distributions.\n\n### Providers and Service Transfer\n\n- **Efficiency:** Specialized third-party servicers can leverage AI to handle transferred servicing rights more efficiently, ensuring smooth transitions without disrupting service quality.\n\nOverall, Generative AI can transform mortgage servicing by enhancing all key activities, leading to greater efficiency, accuracy, and customer satisfaction while ensuring compliance and effective risk management."
     },
     "metadata": {},
     "output_type": "display_data"
    }
   ],
   "execution_count": 3
  }
 ],
 "metadata": {
  "kernelspec": {
   "display_name": "Python 3",
   "language": "python",
   "name": "python3"
  },
  "language_info": {
   "codemirror_mode": {
    "name": "ipython",
    "version": 2
   },
   "file_extension": ".py",
   "mimetype": "text/x-python",
   "name": "python",
   "nbconvert_exporter": "python",
   "pygments_lexer": "ipython2",
   "version": "2.7.6"
  }
 },
 "nbformat": 4,
 "nbformat_minor": 5
}
