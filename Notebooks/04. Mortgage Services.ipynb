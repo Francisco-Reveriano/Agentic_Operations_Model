{
 "cells": [
  {
   "cell_type": "code",
   "id": "initial_id",
   "metadata": {
    "collapsed": true,
    "ExecuteTime": {
     "end_time": "2025-08-09T04:10:32.890855Z",
     "start_time": "2025-08-09T04:10:29.138844Z"
    }
   },
   "source": [
    "import pandas as pd\n",
    "import numpy as np\n",
    "import os\n",
    "from agents import Runner, agent, trace, set_trace_processors, Agent, ModelSettings\n",
    "from weave.integrations.openai_agents.openai_agents import WeaveTracingProcessor\n",
    "import asyncio\n",
    "from typing import Literal, List, Annotated\n",
    "import weave\n",
    "from dotenv import load_dotenv\n",
    "from pydantic import BaseModel, Field, conlist\n",
    "from IPython.display import display, Markdown, HTML, Image\n",
    "from tqdm import tqdm\n",
    "load_dotenv()\n",
    "# Import Necessary Libraries\n",
    "from src.Agents.Master_Agent import q_a_agent\n",
    "# Import Weave and Biases\n",
    "weave.init(\"Operation Model\")\n",
    "set_trace_processors([WeaveTracingProcessor()])"
   ],
   "outputs": [
    {
     "name": "stderr",
     "output_type": "stream",
     "text": [
      "\u001B[36m\u001B[1mweave\u001B[0m: Logged in as Weights & Biases user: francisco-reveriano-1.\n",
      "\u001B[36m\u001B[1mweave\u001B[0m: View Weave data at https://wandb.ai/francisco-reveriano-1-mckinsey-company/operation-model/weave\n"
     ]
    }
   ],
   "execution_count": 1
  },
  {
   "metadata": {},
   "cell_type": "markdown",
   "source": "## Load Dataset",
   "id": "8bda4d6fcbafe5f"
  },
  {
   "metadata": {
    "ExecuteTime": {
     "end_time": "2025-08-09T04:10:33.044003Z",
     "start_time": "2025-08-09T04:10:32.899959Z"
    }
   },
   "cell_type": "code",
   "source": [
    "excel_sheet = pd.ExcelFile(\"../Data/Raw/Ops_Overview_Data_File.xlsx\")\n",
    "# List all sheet names\n",
    "print(excel_sheet.sheet_names)"
   ],
   "id": "bdbbec9e71600702",
   "outputs": [
    {
     "name": "stdout",
     "output_type": "stream",
     "text": [
      "['Original HC Move Table', 'Mortgage Servicing', 'Sheet7', 'FTS', 'Client Default Solutions', 'Truist Care Centers', 'Enterprise Resilience', 'Deposits Service Delivery', 'Wholesale Banking - Cap Mar', 'Wholesale Banking - Lending', 'Scenarios_vArchive', 'CSBB Service Delivery', 'Supplier Spend Data']\n"
     ]
    }
   ],
   "execution_count": 2
  },
  {
   "metadata": {
    "ExecuteTime": {
     "end_time": "2025-08-09T04:10:33.242619Z",
     "start_time": "2025-08-09T04:10:33.174516Z"
    }
   },
   "cell_type": "code",
   "source": [
    "df = None\n",
    "df = pd.read_excel(\"../Data/Raw/Ops_Overview_Data_File.xlsx\", sheet_name=\"Mortgage Servicing\")\n",
    "df.fillna(0, inplace=True)\n",
    "df[\"ONSHORE\"] = df[['ONSHORE TEAMMATE', 'ONSHORE CW', 'Est. Size- ONSHORE ']].sum(axis=1)\n",
    "df[\"OFFSHORE\"] = df[[\"Est. Size- OFFSHORE\"]]\n",
    "df.head(2)"
   ],
   "id": "c949a9c6df7fa20d",
   "outputs": [
    {
     "data": {
      "text/plain": [
       "  Function / Process Name  ONSHORE TEAMMATE  ONSHORE CW  Est. Size- ONSHORE   \\\n",
       "0              Loan Admin               150           0                  0.0   \n",
       "1             Loss Drafts                 0          85                 85.0   \n",
       "\n",
       "   Est. Size- OFFSHORE  ONSHORE  OFFSHORE  \n",
       "0                   48    150.0        48  \n",
       "1                    0    170.0         0  "
      ],
      "text/html": [
       "<div>\n",
       "<style scoped>\n",
       "    .dataframe tbody tr th:only-of-type {\n",
       "        vertical-align: middle;\n",
       "    }\n",
       "\n",
       "    .dataframe tbody tr th {\n",
       "        vertical-align: top;\n",
       "    }\n",
       "\n",
       "    .dataframe thead th {\n",
       "        text-align: right;\n",
       "    }\n",
       "</style>\n",
       "<table border=\"1\" class=\"dataframe\">\n",
       "  <thead>\n",
       "    <tr style=\"text-align: right;\">\n",
       "      <th></th>\n",
       "      <th>Function / Process Name</th>\n",
       "      <th>ONSHORE TEAMMATE</th>\n",
       "      <th>ONSHORE CW</th>\n",
       "      <th>Est. Size- ONSHORE</th>\n",
       "      <th>Est. Size- OFFSHORE</th>\n",
       "      <th>ONSHORE</th>\n",
       "      <th>OFFSHORE</th>\n",
       "    </tr>\n",
       "  </thead>\n",
       "  <tbody>\n",
       "    <tr>\n",
       "      <th>0</th>\n",
       "      <td>Loan Admin</td>\n",
       "      <td>150</td>\n",
       "      <td>0</td>\n",
       "      <td>0.0</td>\n",
       "      <td>48</td>\n",
       "      <td>150.0</td>\n",
       "      <td>48</td>\n",
       "    </tr>\n",
       "    <tr>\n",
       "      <th>1</th>\n",
       "      <td>Loss Drafts</td>\n",
       "      <td>0</td>\n",
       "      <td>85</td>\n",
       "      <td>85.0</td>\n",
       "      <td>0</td>\n",
       "      <td>170.0</td>\n",
       "      <td>0</td>\n",
       "    </tr>\n",
       "  </tbody>\n",
       "</table>\n",
       "</div>"
      ]
     },
     "execution_count": 3,
     "metadata": {},
     "output_type": "execute_result"
    }
   ],
   "execution_count": 3
  },
  {
   "metadata": {
    "jupyter": {
     "is_executing": true
    },
    "ExecuteTime": {
     "start_time": "2025-08-09T04:10:33.267031Z"
    }
   },
   "cell_type": "code",
   "source": [
    "import asyncio\n",
    "\n",
    "sheet_name = \"Mortgage Servicing\"\n",
    "\n",
    "async def run_queries(row):\n",
    "    process   = row[\"Function / Process Name\"]\n",
    "    onshore   = row[\"ONSHORE\"]\n",
    "    offshore  = row[\"OFFSHORE\"]\n",
    "\n",
    "     # Build the two prompts\n",
    "    onshore_query = (\n",
    "        f\"What is the 5-year cumulative percentage change that Generative AI will have \"\n",
    "        f\"on the following process: {process} within the following Line of Business (LoB): \"\n",
    "        f\"{sheet_name}? Keep in mind that the bank's current onshore capacity is {onshore}\"\n",
    "    )\n",
    "    offshore_query = (\n",
    "        f\"What is the 5-year cumulative percentage change that Generative AI will have \"\n",
    "        f\"on the following process: {process} within the following Line of Business (LoB): \"\n",
    "        f\"{sheet_name}? Keep in mind that the bank's current offshore capacity is {offshore}\"\n",
    "    )\n",
    "    # Fire both queries concurrently\n",
    "    with trace(sheet_name):\n",
    "        on_task  = asyncio.create_task(Runner.run(q_a_agent, onshore_query, max_turns=100))\n",
    "        off_task = asyncio.create_task(Runner.run(q_a_agent, offshore_query, max_turns=100))\n",
    "    on, off  = await asyncio.gather(on_task, off_task)\n",
    "\n",
    "    return {\n",
    "        # ---------- On-shore ----------\n",
    "        \"Onshore_High_Scenario_Vectors\":    on.final_output.high_scenario,\n",
    "        \"Onshore_Medium_Scenario_Vectors\":  on.final_output.medium_scenario,\n",
    "        \"Onshore_Low_Scenario_Vectors\":     on.final_output.low_scenario,\n",
    "        \"Onshore_High_Scenario_Reasoning\":  on.final_output.high_scenario_reasoning,\n",
    "        \"Onshore_Medium_Scenario_Reasoning\":on.final_output.medium_scenario_reasoning,\n",
    "        \"Onshore_Low_Scenario_Reasoning\":   on.final_output.low_scenario_reasoning,\n",
    "        # ---------- Off-shore ----------\n",
    "        \"Offshore_High_Scenario_Vectors\":    off.final_output.high_scenario,\n",
    "        \"Offshore_Medium_Scenario_Vectors\":  off.final_output.medium_scenario,\n",
    "        \"Offshore_Low_Scenario_Vectors\":     off.final_output.low_scenario,\n",
    "        \"Offshore_High_Scenario_Reasoning\":  off.final_output.high_scenario_reasoning,\n",
    "        \"Offshore_Medium_Scenario_Reasoning\":off.final_output.medium_scenario_reasoning,\n",
    "        \"Offshore_Low_Scenario_Reasoning\":   off.final_output.low_scenario_reasoning,\n",
    "    }\n",
    "\n",
    "async def main():\n",
    "    coros = [run_queries(row) for _, row in df.iterrows()]\n",
    "    results = await asyncio.gather(*coros)                       #  ◀️ massive fan-out\n",
    "    df_out = pd.concat([df, pd.DataFrame(results)], axis=1)\n",
    "    return df_out\n",
    "\n",
    "df = await main()\n",
    "df.to_excel(\"../Data/Intermediate/Ops_Overview_Data_File_Processed.xlsx\", sheet_name=sheet_name, index=False)# ✔️ Jupyter’s loop drives it\n",
    "df.head()\n"
   ],
   "id": "17b2f3320b8c4a3e",
   "outputs": [],
   "execution_count": null
  }
 ],
 "metadata": {
  "kernelspec": {
   "display_name": "Python 3",
   "language": "python",
   "name": "python3"
  },
  "language_info": {
   "codemirror_mode": {
    "name": "ipython",
    "version": 2
   },
   "file_extension": ".py",
   "mimetype": "text/x-python",
   "name": "python",
   "nbconvert_exporter": "python",
   "pygments_lexer": "ipython2",
   "version": "2.7.6"
  }
 },
 "nbformat": 4,
 "nbformat_minor": 5
}
