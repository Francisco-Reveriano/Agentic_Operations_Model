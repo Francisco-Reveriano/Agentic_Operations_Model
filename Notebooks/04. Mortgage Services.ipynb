{
 "cells": [
  {
   "cell_type": "code",
   "id": "initial_id",
   "metadata": {
    "collapsed": true,
    "ExecuteTime": {
     "end_time": "2025-08-09T21:55:27.088845Z",
     "start_time": "2025-08-09T21:55:16.718084Z"
    }
   },
   "source": [
    "import pandas as pd\n",
    "import numpy as np\n",
    "import os\n",
    "from agents import Runner, agent, trace, set_trace_processors, Agent, ModelSettings\n",
    "from weave.integrations.openai_agents.openai_agents import WeaveTracingProcessor\n",
    "import asyncio\n",
    "from typing import Literal, List, Annotated\n",
    "import weave\n",
    "from dotenv import load_dotenv\n",
    "from pydantic import BaseModel, Field, conlist\n",
    "from IPython.display import display, Markdown, HTML, Image\n",
    "from tqdm import tqdm\n",
    "import warnings\n",
    "load_dotenv()\n",
    "# Import Necessary Libraries\n",
    "from src.Agents.Master_Agent import q_a_agent\n",
    "# Import Weave and Biases\n",
    "weave.init(\"Operation Model\")\n",
    "set_trace_processors([WeaveTracingProcessor()])\n",
    "warnings.filterwarnings(\"ignore\")"
   ],
   "outputs": [
    {
     "name": "stderr",
     "output_type": "stream",
     "text": [
      "\u001B[36m\u001B[1mweave\u001B[0m: Logged in as Weights & Biases user: francisco-reveriano-1.\n",
      "\u001B[36m\u001B[1mweave\u001B[0m: View Weave data at https://wandb.ai/francisco-reveriano-1-mckinsey-company/operation-model/weave\n"
     ]
    }
   ],
   "execution_count": 1
  },
  {
   "metadata": {},
   "cell_type": "markdown",
   "source": "## Load Dataset",
   "id": "8bda4d6fcbafe5f"
  },
  {
   "metadata": {
    "ExecuteTime": {
     "end_time": "2025-08-09T21:55:27.545528Z",
     "start_time": "2025-08-09T21:55:27.154709Z"
    }
   },
   "cell_type": "code",
   "source": [
    "excel_sheet = pd.ExcelFile(\"../Data/Raw/Ops_Overview_Data_File.xlsx\")\n",
    "# List all sheet names\n",
    "print(excel_sheet.sheet_names)"
   ],
   "id": "bdbbec9e71600702",
   "outputs": [
    {
     "name": "stdout",
     "output_type": "stream",
     "text": [
      "['Original HC Move Table', 'Mortgage Servicing', 'Sheet7', 'FTS', 'Client Default Solutions', 'Truist Care Centers', 'Enterprise Resilience', 'Deposits Service Delivery', 'Wholesale Banking - Cap Mar', 'Wholesale Banking - Lending', 'Scenarios_vArchive', 'CSBB Service Delivery', 'Supplier Spend Data']\n"
     ]
    }
   ],
   "execution_count": 2
  },
  {
   "metadata": {
    "ExecuteTime": {
     "end_time": "2025-08-09T21:55:51.125335Z",
     "start_time": "2025-08-09T21:55:51.049716Z"
    }
   },
   "cell_type": "code",
   "source": [
    "df = None\n",
    "df = pd.read_excel(\"../Data/Raw/Ops_Overview_Data_File.xlsx\", sheet_name=\"Client Default Solutions\")\n",
    "df.fillna(0, inplace=True)\n",
    "df[\"ONSHORE\"] = df[['ONSHORE TEAMMATE', 'ONSHORE CW', 'Est. Size- ONSHORE ']].sum(axis=1)\n",
    "df[\"OFFSHORE\"] = df[[\"Est. Size- OFFSHORE\"]]\n",
    "df.head()"
   ],
   "id": "c949a9c6df7fa20d",
   "outputs": [
    {
     "data": {
      "text/plain": [
       "  Function / Process Owner (L6)         Function / Process Name  \\\n",
       "0                    Chad Fluno         Bankruptcy - Operations   \n",
       "1                    Chad Fluno              Bankruptcy - Phone   \n",
       "2                    Chad Fluno             Bankruptcy - Claims   \n",
       "3            Stephanie Williams  Collections - Direct/Unsecured   \n",
       "4            Stephanie Williams        Consumer Loss Mitigation   \n",
       "\n",
       "   ONSHORE TEAMMATE  ONSHORE CW  Est. Size- ONSHORE   Est. Size- OFFSHORE  \\\n",
       "0               0.0         0.0                   32                  0.0   \n",
       "1               0.0         0.0                    9                  0.0   \n",
       "2               0.0         0.0                    9                  5.0   \n",
       "3             129.0         1.0                  130                  0.0   \n",
       "4               0.0         0.0                   29                  0.0   \n",
       "\n",
       "   ONSHORE  OFFSHORE  \n",
       "0     32.0       0.0  \n",
       "1      9.0       0.0  \n",
       "2      9.0       5.0  \n",
       "3    260.0       0.0  \n",
       "4     29.0       0.0  "
      ],
      "text/html": [
       "<div>\n",
       "<style scoped>\n",
       "    .dataframe tbody tr th:only-of-type {\n",
       "        vertical-align: middle;\n",
       "    }\n",
       "\n",
       "    .dataframe tbody tr th {\n",
       "        vertical-align: top;\n",
       "    }\n",
       "\n",
       "    .dataframe thead th {\n",
       "        text-align: right;\n",
       "    }\n",
       "</style>\n",
       "<table border=\"1\" class=\"dataframe\">\n",
       "  <thead>\n",
       "    <tr style=\"text-align: right;\">\n",
       "      <th></th>\n",
       "      <th>Function / Process Owner (L6)</th>\n",
       "      <th>Function / Process Name</th>\n",
       "      <th>ONSHORE TEAMMATE</th>\n",
       "      <th>ONSHORE CW</th>\n",
       "      <th>Est. Size- ONSHORE</th>\n",
       "      <th>Est. Size- OFFSHORE</th>\n",
       "      <th>ONSHORE</th>\n",
       "      <th>OFFSHORE</th>\n",
       "    </tr>\n",
       "  </thead>\n",
       "  <tbody>\n",
       "    <tr>\n",
       "      <th>0</th>\n",
       "      <td>Chad Fluno</td>\n",
       "      <td>Bankruptcy - Operations</td>\n",
       "      <td>0.0</td>\n",
       "      <td>0.0</td>\n",
       "      <td>32</td>\n",
       "      <td>0.0</td>\n",
       "      <td>32.0</td>\n",
       "      <td>0.0</td>\n",
       "    </tr>\n",
       "    <tr>\n",
       "      <th>1</th>\n",
       "      <td>Chad Fluno</td>\n",
       "      <td>Bankruptcy - Phone</td>\n",
       "      <td>0.0</td>\n",
       "      <td>0.0</td>\n",
       "      <td>9</td>\n",
       "      <td>0.0</td>\n",
       "      <td>9.0</td>\n",
       "      <td>0.0</td>\n",
       "    </tr>\n",
       "    <tr>\n",
       "      <th>2</th>\n",
       "      <td>Chad Fluno</td>\n",
       "      <td>Bankruptcy - Claims</td>\n",
       "      <td>0.0</td>\n",
       "      <td>0.0</td>\n",
       "      <td>9</td>\n",
       "      <td>5.0</td>\n",
       "      <td>9.0</td>\n",
       "      <td>5.0</td>\n",
       "    </tr>\n",
       "    <tr>\n",
       "      <th>3</th>\n",
       "      <td>Stephanie Williams</td>\n",
       "      <td>Collections - Direct/Unsecured</td>\n",
       "      <td>129.0</td>\n",
       "      <td>1.0</td>\n",
       "      <td>130</td>\n",
       "      <td>0.0</td>\n",
       "      <td>260.0</td>\n",
       "      <td>0.0</td>\n",
       "    </tr>\n",
       "    <tr>\n",
       "      <th>4</th>\n",
       "      <td>Stephanie Williams</td>\n",
       "      <td>Consumer Loss Mitigation</td>\n",
       "      <td>0.0</td>\n",
       "      <td>0.0</td>\n",
       "      <td>29</td>\n",
       "      <td>0.0</td>\n",
       "      <td>29.0</td>\n",
       "      <td>0.0</td>\n",
       "    </tr>\n",
       "  </tbody>\n",
       "</table>\n",
       "</div>"
      ]
     },
     "execution_count": 4,
     "metadata": {},
     "output_type": "execute_result"
    }
   ],
   "execution_count": 4
  },
  {
   "metadata": {
    "ExecuteTime": {
     "start_time": "2025-08-09T19:19:04.759815Z"
    }
   },
   "cell_type": "code",
   "source": [
    "import asyncio\n",
    "\n",
    "sheet_name = \"Mortgage Servicing\"\n",
    "\n",
    "async def run_queries(row):\n",
    "    process   = row[\"Function / Process Name\"]\n",
    "    onshore   = row[\"ONSHORE\"]\n",
    "    offshore  = row[\"OFFSHORE\"]\n",
    "\n",
    "     # Build the two prompts\n",
    "    onshore_query = (\n",
    "        f\"What is the 5-year cumulative percentage change that Generative AI will have \"\n",
    "        f\"on the following process: {process} within the following Line of Business (LoB): \"\n",
    "        f\"{sheet_name}? Keep in mind that the bank's current onshore capacity is {onshore} Full-Time Equivalent Employees.\"\n",
    "    )\n",
    "    offshore_query = (\n",
    "        f\"What is the 5-year cumulative percentage change that Generative AI will have \"\n",
    "        f\"on the following process: {process} within the following Line of Business (LoB): \"\n",
    "        f\"{sheet_name}? Keep in mind that the bank's current offshore capacity is {offshore} Full-Time Equivalent Employees.\"\n",
    "    )\n",
    "    # Fire both queries concurrently\n",
    "    with trace(sheet_name):\n",
    "        on_task  = asyncio.create_task(Runner.run(q_a_agent, onshore_query, max_turns=100))\n",
    "        off_task = asyncio.create_task(Runner.run(q_a_agent, offshore_query, max_turns=100))\n",
    "    on, off  = await asyncio.gather(on_task, off_task)\n",
    "\n",
    "    return {\n",
    "        # ---------- On-shore ----------\n",
    "        \"Onshore_High_Scenario_Vectors\":    on.final_output.high_scenario,\n",
    "        \"Onshore_Medium_Scenario_Vectors\":  on.final_output.medium_scenario,\n",
    "        \"Onshore_Low_Scenario_Vectors\":     on.final_output.low_scenario,\n",
    "        \"Onshore_High_Scenario_Reasoning\":  on.final_output.high_scenario_reasoning,\n",
    "        \"Onshore_Medium_Scenario_Reasoning\":on.final_output.medium_scenario_reasoning,\n",
    "        \"Onshore_Low_Scenario_Reasoning\":   on.final_output.low_scenario_reasoning,\n",
    "        \"Onshore_CourseWork\":               on.final_output.online_coursework,\n",
    "        # ---------- Off-shore ----------\n",
    "        \"Offshore_High_Scenario_Vectors\":    off.final_output.high_scenario,\n",
    "        \"Offshore_Medium_Scenario_Vectors\":  off.final_output.medium_scenario,\n",
    "        \"Offshore_Low_Scenario_Vectors\":     off.final_output.low_scenario,\n",
    "        \"Offshore_High_Scenario_Reasoning\":  off.final_output.high_scenario_reasoning,\n",
    "        \"Offshore_Medium_Scenario_Reasoning\":off.final_output.medium_scenario_reasoning,\n",
    "        \"Offshore_Low_Scenario_Reasoning\":   off.final_output.low_scenario_reasoning,\n",
    "        \"Offshore_CourseWork\":               off.final_output.online_coursework,\n",
    "    }\n",
    "\n",
    "async def main():\n",
    "    coros = [run_queries(row) for _, row in df.iterrows()]\n",
    "    results = await asyncio.gather(*coros)                       #  ◀️ massive fan-out\n",
    "    df_out = pd.concat([df, pd.DataFrame(results)], axis=1)\n",
    "    return df_out\n",
    "\n",
    "df = await main()\n",
    "df.to_excel(\"../Data/Intermediate/Ops_Overview_Data_File_Processed.xlsx\", sheet_name=sheet_name, index=False)# ✔️ Jupyter’s loop drives it\n",
    "df.head()\n"
   ],
   "id": "17b2f3320b8c4a3e",
   "outputs": [
    {
     "name": "stderr",
     "output_type": "stream",
     "text": [
      "Error getting response: Request timed out.. (request_id: None)\n",
      "Error getting response: Request timed out.. (request_id: None)\n",
      "Error getting response: Request timed out.. (request_id: None)\n"
     ]
    }
   ],
   "execution_count": null
  },
  {
   "metadata": {},
   "cell_type": "code",
   "source": "df",
   "id": "f298b716012a499b",
   "outputs": [],
   "execution_count": null
  }
 ],
 "metadata": {
  "kernelspec": {
   "display_name": "Python 3",
   "language": "python",
   "name": "python3"
  },
  "language_info": {
   "codemirror_mode": {
    "name": "ipython",
    "version": 2
   },
   "file_extension": ".py",
   "mimetype": "text/x-python",
   "name": "python",
   "nbconvert_exporter": "python",
   "pygments_lexer": "ipython2",
   "version": "2.7.6"
  }
 },
 "nbformat": 4,
 "nbformat_minor": 5
}
